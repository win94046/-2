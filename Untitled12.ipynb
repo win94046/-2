{
 "cells": [
  {
   "cell_type": "code",
   "execution_count": 3,
   "metadata": {},
   "outputs": [],
   "source": [
    "from keras.datasets import mnist\n",
    "\n",
    "(x_train, y_train), (x_test, y_test) = mnist.load_data()"
   ]
  },
  {
   "cell_type": "code",
   "execution_count": 4,
   "metadata": {},
   "outputs": [],
   "source": [
    "import numpy as np\n",
    "import random\n",
    "import matplotlib.pyplot as plt\n",
    "from sklearn.decomposition import PCA\n",
    "from sklearn.svm import SVC"
   ]
  },
  {
   "cell_type": "code",
   "execution_count": 5,
   "metadata": {},
   "outputs": [],
   "source": [
    "from sklearn.preprocessing import StandardScaler\n",
    "from keras.models import Sequential"
   ]
  },
  {
   "cell_type": "code",
   "execution_count": 6,
   "metadata": {},
   "outputs": [
    {
     "data": {
      "text/plain": [
       "(10000,)"
      ]
     },
     "execution_count": 6,
     "metadata": {},
     "output_type": "execute_result"
    }
   ],
   "source": [
    "np.shape(y_test)"
   ]
  },
  {
   "cell_type": "code",
   "execution_count": 7,
   "metadata": {
    "collapsed": true
   },
   "outputs": [
    {
     "name": "stdout",
     "output_type": "stream",
     "text": [
      "[[0. 0. 0. ... 0. 0. 0.]\n",
      " [0. 0. 0. ... 0. 0. 0.]\n",
      " [0. 0. 0. ... 0. 0. 0.]\n",
      " ...\n",
      " [0. 0. 0. ... 0. 0. 0.]\n",
      " [0. 0. 0. ... 0. 0. 0.]\n",
      " [0. 0. 0. ... 0. 0. 0.]]\n"
     ]
    }
   ],
   "source": [
    "nx_train=np.reshape(x_train,(60000, 28*28))\n",
    "nx_test=np.reshape(x_test,(10000, 28*28))\n",
    "nx_train = nx_train/255.0\n",
    "nx_test = nx_test/255.0\n",
    "print(nx_train)\n",
    "#ny_train=np.reshape(y_train,(60000, 28*28))"
   ]
  },
  {
   "cell_type": "code",
   "execution_count": 8,
   "metadata": {
    "collapsed": true
   },
   "outputs": [
    {
     "name": "stdout",
     "output_type": "stream",
     "text": [
      "(60000, 214)\n"
     ]
    }
   ],
   "source": [
    "pca = PCA(n_components=0.97)\n",
    "newx_train= pca.fit_transform(nx_train)\n",
    "newx_test = pca.transform(nx_test)\n",
    "#newy_train = pca.transform(y_train)\n",
    "print(newx_train.shape)"
   ]
  },
  {
   "cell_type": "code",
   "execution_count": 9,
   "metadata": {
    "collapsed": true
   },
   "outputs": [
    {
     "data": {
      "text/plain": [
       "SVC(C=1.0, cache_size=200, class_weight=None, coef0=0.0,\n",
       "  decision_function_shape='ovr', degree=3, gamma='auto', kernel='rbf',\n",
       "  max_iter=-1, probability=False, random_state=None, shrinking=True,\n",
       "  tol=0.001, verbose=False)"
      ]
     },
     "execution_count": 9,
     "metadata": {},
     "output_type": "execute_result"
    }
   ],
   "source": [
    "clf = SVC()\n",
    "clf.fit(newx_train, y_train)\n"
   ]
  },
  {
   "cell_type": "code",
   "execution_count": 10,
   "metadata": {},
   "outputs": [
    {
     "name": "stdout",
     "output_type": "stream",
     "text": [
      "訓練資料辨識率: 0.9702833333333334\n"
     ]
    }
   ],
   "source": [
    "print(\"訓練資料辨識率:\",np.mean(clf.predict(newx_train) == y_train))"
   ]
  },
  {
   "cell_type": "code",
   "execution_count": 94,
   "metadata": {
    "collapsed": true
   },
   "outputs": [
    {
     "data": {
      "text/plain": [
       "array([[-2.95429410e+00,  6.26767802e-02, -8.68021367e-01, ...,\n",
       "         1.76543489e-05, -5.79062409e-03, -8.70352033e-03],\n",
       "       [-2.94064111e+00,  6.29507860e-02, -8.58473446e-01, ...,\n",
       "        -8.78605413e-04, -5.14373054e-03, -8.44935288e-03],\n",
       "       [-2.95699740e+00,  7.35164175e-02, -8.70543408e-01, ...,\n",
       "         1.45315182e-03, -5.89541322e-03, -8.73423808e-03],\n",
       "       ...,\n",
       "       [-2.95893825e+00,  6.99470989e-02, -8.71606128e-01, ...,\n",
       "        -2.60084734e-04, -5.54867896e-03, -9.05937508e-03],\n",
       "       [-2.95419147e+00,  6.73993073e-02, -8.59741895e-01, ...,\n",
       "         5.65843700e-04, -5.10544603e-03, -9.14547420e-03],\n",
       "       [-2.95886724e+00,  6.71051610e-02, -8.59093525e-01, ...,\n",
       "         8.96847680e-05, -6.19333786e-03, -9.41874876e-03]])"
      ]
     },
     "execution_count": 94,
     "metadata": {},
     "output_type": "execute_result"
    }
   ],
   "source": [
    "newx_test"
   ]
  },
  {
   "cell_type": "code",
   "execution_count": 11,
   "metadata": {
    "collapsed": true
   },
   "outputs": [
    {
     "name": "stdout",
     "output_type": "stream",
     "text": [
      "測試資料辨識率: 0.9656\n"
     ]
    }
   ],
   "source": [
    "print(\"測試資料辨識率:\",np.mean(clf.predict(newx_test) == y_test))"
   ]
  },
  {
   "cell_type": "code",
   "execution_count": null,
   "metadata": {},
   "outputs": [],
   "source": []
  },
  {
   "cell_type": "code",
   "execution_count": null,
   "metadata": {},
   "outputs": [],
   "source": []
  }
 ],
 "metadata": {
  "kernelspec": {
   "display_name": "Python 3",
   "language": "python",
   "name": "python3"
  },
  "language_info": {
   "codemirror_mode": {
    "name": "ipython",
    "version": 3
   },
   "file_extension": ".py",
   "mimetype": "text/x-python",
   "name": "python",
   "nbconvert_exporter": "python",
   "pygments_lexer": "ipython3",
   "version": "3.6.5"
  }
 },
 "nbformat": 4,
 "nbformat_minor": 2
}
